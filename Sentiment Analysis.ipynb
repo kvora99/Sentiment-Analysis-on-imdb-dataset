{
 "cells": [
  {
   "cell_type": "code",
   "execution_count": 21,
   "metadata": {},
   "outputs": [],
   "source": [
    "import os\n",
    "import numpy as np\n",
    "import matplotlib.pyplot as plt\n",
    "from sklearn.feature_extraction.text import TfidfVectorizer\n",
    "from sklearn.feature_selection import SelectKBest\n",
    "from sklearn.feature_selection import f_classif\n",
    "import tensorflow as tf\n",
    "from tensorflow.python.keras.models import Sequential\n",
    "from tensorflow.python.keras.layers import Dense\n",
    "from tensorflow.python.keras.layers import Dropout"
   ]
  },
  {
   "cell_type": "code",
   "execution_count": 2,
   "metadata": {},
   "outputs": [],
   "source": [
    "train_texts = []\n",
    "train_labels = []\n",
    "test_texts = []\n",
    "test_labels = []\n",
    "for i in ['train','test']:\n",
    "    for category in ['pos','neg']:\n",
    "        path = os.path.join('aclImdb', i, category)\n",
    "        for fname in sorted(os.listdir(path)):\n",
    "            if fname.endswith('.txt'):\n",
    "                with open(os.path.join(path,fname)) as f:\n",
    "                    if i == \"train\":\n",
    "                        train_texts.append(f.read())\n",
    "                        train_labels.append(0 if category == 'neg' else 1)\n",
    "                    else:\n",
    "                        test_texts.append(f.read())\n",
    "                        test_labels.append(0 if category == 'neg' else 1)\n"
   ]
  },
  {
   "cell_type": "code",
   "execution_count": 3,
   "metadata": {},
   "outputs": [
    {
     "data": {
      "text/plain": [
       "174.0"
      ]
     },
     "execution_count": 3,
     "metadata": {},
     "output_type": "execute_result"
    }
   ],
   "source": [
    "np.median([len(s.split()) for s in train_texts])"
   ]
  },
  {
   "cell_type": "code",
   "execution_count": 4,
   "metadata": {},
   "outputs": [],
   "source": [
    "def shuffle(X, y):\n",
    "    perm = np.random.permutation(len(X))\n",
    "    X = X[perm]\n",
    "    y = y[perm]\n",
    "    return X, y"
   ]
  },
  {
   "cell_type": "code",
   "execution_count": 5,
   "metadata": {},
   "outputs": [],
   "source": [
    "train_texts = np.array(train_texts)\n",
    "train_labels = np.array(train_labels)\n",
    "test_texts = np.array(test_texts)\n",
    "test_labels = np.array(test_labels)\n",
    "train_texts,train_labels = shuffle(train_texts,train_labels)\n",
    "test_texts,test_labels = shuffle(test_texts,test_labels)"
   ]
  },
  {
   "cell_type": "code",
   "execution_count": 6,
   "metadata": {},
   "outputs": [
    {
     "data": {
      "image/png": "[encoded data removed]",
      "text/plain": [
       "<matplotlib.figure.Figure at 0x7fd27d3d0550>"
      ]
     },
     "metadata": {},
     "output_type": "display_data"
    }
   ],
   "source": [
    "plt.figure(figsize=(15, 10))\n",
    "plt.hist([len(sample) for sample in list(train_texts)], 50)\n",
    "plt.xlabel('Length of samples')\n",
    "plt.ylabel('Number of samples')\n",
    "plt.title('Sample length distribution')\n",
    "plt.show()"
   ]
  },
  {
   "cell_type": "code",
   "execution_count": 7,
   "metadata": {},
   "outputs": [],
   "source": [
    "def ngram_vectorize(train_texts, train_labels, val_texts):\n",
    "\n",
    "    kwargs = {\n",
    "            'ngram_range': (1, 2),  # Use 1-grams + 2-grams.\n",
    "            'dtype': 'int32',\n",
    "            'strip_accents': 'unicode',\n",
    "            'decode_error': 'replace',\n",
    "            'analyzer': 'word',  # Split text into word tokens.\n",
    "            'min_df': 2,\n",
    "    }\n",
    "    vectorizer = TfidfVectorizer(**kwargs)\n",
    "\n",
    "    x_train = vectorizer.fit_transform(train_texts)\n",
    "\n",
    "    x_val = vectorizer.transform(val_texts)\n",
    "\n",
    "    # Select top 'k' of the vectorized features.\n",
    "    selector = SelectKBest(f_classif, k=min(20000, x_train.shape[1]))\n",
    "    selector.fit(x_train, train_labels)\n",
    "    x_train = selector.transform(x_train).astype('float32')\n",
    "    x_val = selector.transform(x_val).astype('float32')\n",
    "    return x_train, x_val"
   ]
  },
  {
   "cell_type": "code",
   "execution_count": 26,
   "metadata": {},
   "outputs": [
    {
     "name": "stdout",
     "output_type": "stream",
     "text": [
      "_________________________________________________________________\n",
      "Layer (type)                 Output Shape              Param #   \n",
      "=================================================================\n",
      "dropout_17 (Dropout)         (None, 20000)             0         \n",
      "_________________________________________________________________\n",
      "dense_19 (Dense)             (None, 64)                1280064   \n",
      "_________________________________________________________________\n",
      "dropout_18 (Dropout)         (None, 64)                0         \n",
      "_________________________________________________________________\n",
      "dense_20 (Dense)             (None, 1)                 65        \n",
      "=================================================================\n",
      "Total params: 1,280,129\n",
      "Trainable params: 1,280,129\n",
      "Non-trainable params: 0\n",
      "_________________________________________________________________\n",
      "None\n",
      "Train on 25000 samples, validate on 25000 samples\n",
      "Epoch 1/100\n",
      " - 13s - loss: 0.4697 - acc: 0.8549 - val_loss: 0.3227 - val_acc: 0.8874\n",
      "Epoch 2/100\n",
      " - 12s - loss: 0.2345 - acc: 0.9175 - val_loss: 0.2520 - val_acc: 0.9010\n",
      "Epoch 3/100\n",
      " - 11s - loss: 0.1699 - acc: 0.9411 - val_loss: 0.2346 - val_acc: 0.9058\n",
      "Epoch 4/100\n",
      " - 11s - loss: 0.1357 - acc: 0.9535 - val_loss: 0.2314 - val_acc: 0.9055\n",
      "Epoch 5/100\n",
      " - 11s - loss: 0.1127 - acc: 0.9623 - val_loss: 0.2349 - val_acc: 0.9032\n",
      "Epoch 6/100\n",
      " - 12s - loss: 0.0933 - acc: 0.9705 - val_loss: 0.2398 - val_acc: 0.9030\n",
      "Validation accuracy: 0.902999999961853, loss: 0.2398074465084076\n"
     ]
    }
   ],
   "source": [
    "\n",
    "# Vectorize the data\n",
    "x_train, x_val = ngram_vectorize(train_texts, train_labels, test_texts)\n",
    "\n",
    "model = Sequential()\n",
    "# model.add(Dense(units=128, activation='relu',input_shape=x_train.shape[1:]))\n",
    "model.add(Dropout(0.2,input_shape=x_train.shape[1:] ))\n",
    "model.add(Dense(64, activation='relu'))\n",
    "model.add(Dropout(0.2))\n",
    "\n",
    "model.add(Dense(1, activation=\"sigmoid\"))\n",
    "\n",
    "print(model.summary())\n",
    "\n",
    "learning_rate=1e-3\n",
    "optimizer = tf.keras.optimizers.Adam(lr=learning_rate)\n",
    "model.compile(optimizer=optimizer, loss='binary_crossentropy', metrics=['acc'])\n",
    "\n",
    "# Create callback for early stopping on validation loss. If the loss does\n",
    "# not decrease on two consecutive tries, stop training\n",
    "callbacks = [tf.keras.callbacks.EarlyStopping(monitor='val_loss', patience=2)]\n",
    "\n",
    "# Train and validate model\n",
    "history = model.fit(x_train, train_labels, epochs=100, validation_data=(x_val, test_labels),\n",
    "                    verbose=2, batch_size=128, callbacks=callbacks)\n",
    "\n",
    "# Print results\n",
    "history = history.history\n",
    "val_acc = history['val_acc'][-1]\n",
    "val_loss = history['val_loss'][-1]\n",
    "print ('Validation accuracy: {acc}, loss: {loss}'.format(\n",
    "        acc=val_acc, loss=val_loss))\n",
    "\n",
    "# Save model\n",
    "model.save('IMDB_mlp_model_' + str(val_acc) + '_' + str('binary_crossentropy') + '.h5')\n",
    "#     return val_acc, val_loss"
   ]
  },
  {
   "cell_type": "code",
   "execution_count": null,
   "metadata": {},
   "outputs": [],
   "source": []
  }
 ],
 "metadata": {
  "kernelspec": {
   "display_name": "Python 3",
   "language": "python",
   "name": "python3"
  },
  "language_info": {
   "codemirror_mode": {
    "name": "ipython",
    "version": 3
   },
   "file_extension": ".py",
   "mimetype": "text/x-python",
   "name": "python",
   "nbconvert_exporter": "python",
   "pygments_lexer": "ipython3",
   "version": "3.6.4"
  }
 },
 "nbformat": 4,
 "nbformat_minor": 2
}
